{
 "cells": [
  {
   "cell_type": "code",
   "execution_count": 12,
   "id": "69ceb263",
   "metadata": {},
   "outputs": [],
   "source": [
    "import cv2\n",
    "import numpy as np\n",
    "\n",
    "#Load the image\n",
    "image = cv2.imread(\"images/lenna.png\")\n",
    "\n",
    "# Define Transformation parameters\n",
    "tx = 50  # Translation along x-axis\n",
    "ty = 100  # Translation along y-axis\n",
    "angle = 45 # Rotation angle in degrees\n",
    "scale = 0.9 # Scaling Factor\n",
    "shear_x = 0.3  # shear along x-axis\n",
    "shear_y = 0.25  # shear along y_axis\n",
    "\n",
    "# Create transformation matrix\n",
    "M = np.float32([[scale * np.cos(np.radians(angle)), shear_x, tx],\n",
    "               [shear_y, scale * np.sin(np.radians(angle)), ty]])\n",
    "\n",
    "# Apply transformation using warpAffine\n",
    "\n",
    "img_affine = cv2.warpAffine(image, M, (512,512))\n",
    "\n",
    "# Display original and addine transformed images\n",
    "cv2.imshow(\"Affine Transformed Image\",img_affine)\n",
    "cv2.waitKey(0)\n",
    "cv2.destroyAllWindows()"
   ]
  },
  {
   "cell_type": "code",
   "execution_count": 40,
   "id": "44bfded7",
   "metadata": {},
   "outputs": [],
   "source": [
    "import cv2\n",
    "import numpy as np\n",
    "\n",
    "#Load the image\n",
    "image = cv2.imread(\"images/lenna.png\")\n",
    "\n",
    "# Define Transformation parameters\n",
    "tx = 50  # Translation along x-axis\n",
    "ty = 200  # Translation along y-axis\n",
    "angle = -20 # Rotation angle in degrees\n",
    "scale = 200 / 512\n",
    "shear_x = 0  # shear along x-axis\n",
    "shear_y = 0  # shear along y_axis\n",
    "\n",
    "\n",
    "\n",
    "# Define the translation matrix\n",
    "M = np.float32([[scale * np.cos(np.radians(angle)), -np.sin(np.radians(angle)), tx],\n",
    "               [np.sin(np.radians(angle)), scale * np.cos(np.radians(angle)), ty]])\n",
    "\n",
    "# Apply the affine transformation\n",
    "transformed_image = cv2.warpAffine(image, M, (512,512))\n",
    "\n",
    "# Display the transformed image\n",
    "cv2.imshow(\"Transformed Image\", transformed_image)\n",
    "cv2.waitKey(0)\n",
    "cv2.destroyAllWindows()"
   ]
  },
  {
   "cell_type": "code",
   "execution_count": 41,
   "id": "6b1c7f80",
   "metadata": {},
   "outputs": [
    {
     "data": {
      "text/plain": [
       "(512, 512, 3)"
      ]
     },
     "execution_count": 41,
     "metadata": {},
     "output_type": "execute_result"
    }
   ],
   "source": [
    "transformed_image.shape"
   ]
  },
  {
   "cell_type": "code",
   "execution_count": 44,
   "id": "fd7d652c",
   "metadata": {},
   "outputs": [],
   "source": [
    "import cv2\n",
    "import numpy as np\n",
    "\n",
    "# Load the image\n",
    "image = cv2.imread(\"images/lenna.png\")\n",
    "\n",
    "# Define the target size\n",
    "target_size = (200, 200)\n",
    "\n",
    "# Calculate the scaling factor\n",
    "scale_factor = min(target_size[0] / image.shape[0], target_size[1] / image.shape[1])\n",
    "\n",
    "# Calculate the new image dimensions\n",
    "new_dimensions = (int(image.shape[1] * scale_factor), int(image.shape[0] * scale_factor))\n",
    "\n",
    "# Resize the image\n",
    "resized_image = cv2.resize(image, new_dimensions)\n",
    "\n",
    "# Define the translation vector\n",
    "translation_vector = (int((target_size[0] - new_dimensions[0]) / 2), int((target_size[1] - new_dimensions[1]) / 2))\n",
    "\n",
    "# Create the transformation matrix\n",
    "transformation_matrix = np.float32([[scale_factor, 0, translation_vector[0]], [0, scale_factor, translation_vector[1]]])\n",
    "\n",
    "# Apply the affine transformation\n",
    "affine_transformed_image = cv2.warpAffine(resized_image, transformation_matrix, target_size)\n",
    "\n",
    "# Display the transformed image\n",
    "cv2.imshow(\"Affine Transformed Image\", affine_transformed_image)\n",
    "cv2.waitKey(0)\n",
    "cv2.destroyAllWindows()"
   ]
  },
  {
   "cell_type": "code",
   "execution_count": 45,
   "id": "1a40d322",
   "metadata": {},
   "outputs": [
    {
     "data": {
      "text/plain": [
       "(200, 200, 3)"
      ]
     },
     "execution_count": 45,
     "metadata": {},
     "output_type": "execute_result"
    }
   ],
   "source": [
    "affine_transformed_image.shape"
   ]
  },
  {
   "cell_type": "code",
   "execution_count": null,
   "id": "54e3ecea",
   "metadata": {},
   "outputs": [],
   "source": [
    "                                                                                                                                                                                                                                                                                                                                                                                                                                    "
   ]
  }
 ],
 "metadata": {
  "kernelspec": {
   "display_name": "Python 3 (ipykernel)",
   "language": "python",
   "name": "python3"
  },
  "language_info": {
   "codemirror_mode": {
    "name": "ipython",
    "version": 3
   },
   "file_extension": ".py",
   "mimetype": "text/x-python",
   "name": "python",
   "nbconvert_exporter": "python",
   "pygments_lexer": "ipython3",
   "version": "3.11.7"
  }
 },
 "nbformat": 4,
 "nbformat_minor": 5
}
