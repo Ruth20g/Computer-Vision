{
 "cells": [
  {
   "cell_type": "code",
   "execution_count": 6,
   "id": "8f1187c2",
   "metadata": {},
   "outputs": [],
   "source": [
    "import cv2\n",
    "import numpy as np\n",
    "#Load the image\n",
    "image = cv2.imread(\"images/lenna.png\")\n",
    "\n",
    "# DEfine shearing factors (adjust as needed)\n",
    "shear_x = 0.25  # shear along x-axis\n",
    "shear_y = 0.1  # shear along y_axis\n",
    "\n",
    "# Create transformation matrix\n",
    "M = np.array([[1, shear_x, 0],\n",
    "             [shear_y, 1, 0],\n",
    "             [0, 0, 1]])\n",
    "\n",
    "rows, cols, _ = image.shape\n",
    "T = np.float32([[1, 0, 0], [0, 1, 150]])\n",
    "\n",
    "# We use warpAffine to transform the image using the matrix, T\n",
    "image_translation = cv2.warpAffine(image, T, (int(cols*1.5), int(rows*1.5)))\n",
    "sheared_image = cv2.warpPerspective(image_translation, M, (int(cols*1.5), int(rows*1.5)))\n",
    "\n",
    "cv2.imshow(\"Image\",sheared_image)\n",
    "cv2.waitKey(0)\n",
    "cv2.destroyAllWindows()\n",
    "\n",
    "cv2.imshow(\"Translated Image\",image_translation)\n",
    "cv2.waitKey(0)\n",
    "cv2.destroyAllWindows()"
   ]
  },
  {
   "cell_type": "code",
   "execution_count": null,
   "id": "15d1bcf6",
   "metadata": {},
   "outputs": [],
   "source": []
  }
 ],
 "metadata": {
  "kernelspec": {
   "display_name": "Python 3 (ipykernel)",
   "language": "python",
   "name": "python3"
  },
  "language_info": {
   "codemirror_mode": {
    "name": "ipython",
    "version": 3
   },
   "file_extension": ".py",
   "mimetype": "text/x-python",
   "name": "python",
   "nbconvert_exporter": "python",
   "pygments_lexer": "ipython3",
   "version": "3.11.7"
  }
 },
 "nbformat": 4,
 "nbformat_minor": 5
}
