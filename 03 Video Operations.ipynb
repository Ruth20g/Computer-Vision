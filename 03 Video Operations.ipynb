{
 "cells": [
  {
   "cell_type": "code",
   "execution_count": 1,
   "id": "049582a2",
   "metadata": {},
   "outputs": [],
   "source": [
    "import cv2\n",
    "import matplotlib.pyplot as plt"
   ]
  },
  {
   "cell_type": "code",
   "execution_count": 2,
   "id": "216e0bd8",
   "metadata": {},
   "outputs": [],
   "source": [
    "# Load the video\n",
    "vid = cv2.VideoCapture('images/robots.mp4')"
   ]
  },
  {
   "cell_type": "code",
   "execution_count": 3,
   "id": "54731773",
   "metadata": {},
   "outputs": [],
   "source": [
    "# extract the frame\n",
    "ret, frame = vid.read()"
   ]
  },
  {
   "cell_type": "code",
   "execution_count": 4,
   "id": "b5cc5f51",
   "metadata": {},
   "outputs": [
    {
     "data": {
      "text/plain": [
       "True"
      ]
     },
     "execution_count": 4,
     "metadata": {},
     "output_type": "execute_result"
    }
   ],
   "source": [
    "ret"
   ]
  },
  {
   "cell_type": "code",
   "execution_count": 5,
   "id": "4c54e701",
   "metadata": {},
   "outputs": [
    {
     "data": {
      "text/plain": [
       "array([[[ 19,  14,  13],\n",
       "        [ 19,  14,  13],\n",
       "        [ 19,  14,  13],\n",
       "        ...,\n",
       "        [ 48,  43,  23],\n",
       "        [ 48,  43,  23],\n",
       "        [ 48,  43,  23]],\n",
       "\n",
       "       [[ 19,  14,  13],\n",
       "        [ 19,  14,  13],\n",
       "        [ 19,  14,  13],\n",
       "        ...,\n",
       "        [ 48,  43,  23],\n",
       "        [ 48,  43,  23],\n",
       "        [ 48,  43,  23]],\n",
       "\n",
       "       [[ 19,  14,  13],\n",
       "        [ 19,  14,  13],\n",
       "        [ 19,  14,  13],\n",
       "        ...,\n",
       "        [ 48,  43,  23],\n",
       "        [ 48,  43,  23],\n",
       "        [ 48,  43,  23]],\n",
       "\n",
       "       ...,\n",
       "\n",
       "       [[164, 167, 178],\n",
       "        [164, 167, 178],\n",
       "        [164, 167, 178],\n",
       "        ...,\n",
       "        [142, 143, 161],\n",
       "        [142, 143, 161],\n",
       "        [142, 143, 161]],\n",
       "\n",
       "       [[164, 167, 178],\n",
       "        [164, 167, 178],\n",
       "        [164, 167, 178],\n",
       "        ...,\n",
       "        [142, 143, 161],\n",
       "        [142, 143, 161],\n",
       "        [142, 143, 161]],\n",
       "\n",
       "       [[164, 167, 178],\n",
       "        [164, 167, 178],\n",
       "        [164, 167, 178],\n",
       "        ...,\n",
       "        [143, 144, 162],\n",
       "        [143, 144, 162],\n",
       "        [143, 144, 162]]], dtype=uint8)"
      ]
     },
     "execution_count": 5,
     "metadata": {},
     "output_type": "execute_result"
    }
   ],
   "source": [
    "frame"
   ]
  },
  {
   "cell_type": "code",
   "execution_count": 6,
   "id": "2d6023d0",
   "metadata": {},
   "outputs": [
    {
     "data": {
      "text/plain": [
       "(640, 640, 3)"
      ]
     },
     "execution_count": 6,
     "metadata": {},
     "output_type": "execute_result"
    }
   ],
   "source": [
    "frame.shape"
   ]
  },
  {
   "cell_type": "code",
   "execution_count": 7,
   "id": "6831de09",
   "metadata": {},
   "outputs": [],
   "source": [
    "cv2.imshow('First Frame', frame)\n",
    "cv2.waitKey(0)\n",
    "cv2.destroyAllWindows()"
   ]
  },
  {
   "cell_type": "code",
   "execution_count": 10,
   "id": "a5b22e2e",
   "metadata": {},
   "outputs": [],
   "source": [
    "width = int(vid.get(cv2.CAP_PROP_FRAME_WIDTH))\n",
    "height  = int(vid.get(cv2.CAP_PROP_FRAME_HEIGHT))\n",
    "frames = int(vid.get(cv2.CAP_PROP_FRAME_COUNT))\n",
    "fps = int(vid.get(cv2.CAP_PROP_FPS))"
   ]
  },
  {
   "cell_type": "code",
   "execution_count": 11,
   "id": "7e93def6",
   "metadata": {},
   "outputs": [
    {
     "name": "stdout",
     "output_type": "stream",
     "text": [
      "Video Resolution: 640 640\n",
      "Total Frames: 1799\n",
      "FPS: 30\n"
     ]
    }
   ],
   "source": [
    "print('Video Resolution:', height,width)\n",
    "print('Total Frames:', frames)\n",
    "print('FPS:', fps)"
   ]
  },
  {
   "cell_type": "code",
   "execution_count": 12,
   "id": "fdbfda50",
   "metadata": {},
   "outputs": [
    {
     "data": {
      "text/plain": [
       "59.96666666666667"
      ]
     },
     "execution_count": 12,
     "metadata": {},
     "output_type": "execute_result"
    }
   ],
   "source": [
    "# to find length of video\n",
    "frames / fps"
   ]
  },
  {
   "cell_type": "code",
   "execution_count": 14,
   "id": "3f813438",
   "metadata": {},
   "outputs": [],
   "source": [
    "vid = cv2.VideoCapture('images/robots.mp4')\n",
    "while True:\n",
    "    ret, frame = vid.read()\n",
    "    if not ret:\n",
    "        break\n",
    "    # Process the frame\n",
    "    cv2.imshow('Video', frame)\n",
    "    if cv2.waitKey(5) == ord('q'):   # ord - ASCII value\n",
    "        break\n",
    "cv2.destroyAllWindows()"
   ]
  },
  {
   "cell_type": "markdown",
   "id": "04fc4604",
   "metadata": {},
   "source": [
    "### Capture the images and save"
   ]
  },
  {
   "cell_type": "code",
   "execution_count": 15,
   "id": "4c8e11dc",
   "metadata": {},
   "outputs": [],
   "source": [
    "vid=cv2.VideoCapture('images/robots.mp4')\n",
    "\n",
    "#get the first frame and see if successful\n",
    "success, frame= vid.read()\n",
    "#initiate count\n",
    "count=1\n",
    "#keep extracting frames as long as success is True\n",
    "while success:\n",
    "    cv2.imwrite(f'Video_frames/{count}.jpg',frame)\n",
    "    success, frame=vid.read()\n",
    "    count+=1"
   ]
  },
  {
   "cell_type": "markdown",
   "id": "feceb359",
   "metadata": {},
   "source": [
    "### Working with timestamp"
   ]
  },
  {
   "cell_type": "code",
   "execution_count": 18,
   "id": "667cbdcd",
   "metadata": {},
   "outputs": [
    {
     "name": "stdout",
     "output_type": "stream",
     "text": [
      "0.0 0.0 43.0\n"
     ]
    }
   ],
   "source": [
    "#get the frame at a specific timestamp\n",
    "timestamp='00:00:43.00'\n",
    "hours, minutes, seconds=[float(i) for i in timestamp.split(':')]\n",
    "print(hours, minutes, seconds)"
   ]
  },
  {
   "cell_type": "code",
   "execution_count": 19,
   "id": "ec38d29e",
   "metadata": {},
   "outputs": [
    {
     "data": {
      "text/plain": [
       "['00', '00', '43.00']"
      ]
     },
     "execution_count": 19,
     "metadata": {},
     "output_type": "execute_result"
    }
   ],
   "source": [
    "timestamp='00:00:43.00'\n",
    "timestamp.split(':')"
   ]
  },
  {
   "cell_type": "code",
   "execution_count": 20,
   "id": "2ff45aa0",
   "metadata": {},
   "outputs": [
    {
     "name": "stdout",
     "output_type": "stream",
     "text": [
      "1799 1290.0\n"
     ]
    }
   ],
   "source": [
    "#get number of frames up to timestamp\n",
    "trigger_frame= hours * 3600 *fps + minutes * 60 * fps + seconds * fps\n",
    "print(frames, trigger_frame)"
   ]
  },
  {
   "cell_type": "code",
   "execution_count": 21,
   "id": "1579146b",
   "metadata": {},
   "outputs": [],
   "source": [
    "#Go to frame selected by timestamp\n",
    "vid.set(1, trigger_frame)\n",
    "success, frame= vid.read()\n",
    "\n",
    "#save the frame into an image file\n",
    "if success:\n",
    "    cv2.imwrite('screen.jpg', frame)"
   ]
  },
  {
   "cell_type": "markdown",
   "id": "832ff92e",
   "metadata": {},
   "source": [
    "### capture using Camera"
   ]
  },
  {
   "cell_type": "code",
   "execution_count": 24,
   "id": "31093a42",
   "metadata": {},
   "outputs": [
    {
     "data": {
      "text/plain": [
       "False"
      ]
     },
     "execution_count": 24,
     "metadata": {},
     "output_type": "execute_result"
    }
   ],
   "source": [
    "vid= cv2.VideoCapture(0)\n",
    "vid.isOpened()"
   ]
  },
  {
   "cell_type": "code",
   "execution_count": 25,
   "id": "3039dad7",
   "metadata": {},
   "outputs": [],
   "source": [
    "success, frame= vid.read()"
   ]
  },
  {
   "cell_type": "code",
   "execution_count": 26,
   "id": "b44ae3e5",
   "metadata": {},
   "outputs": [],
   "source": [
    "vid.release()"
   ]
  },
  {
   "cell_type": "code",
   "execution_count": 27,
   "id": "f98a1fae",
   "metadata": {},
   "outputs": [
    {
     "ename": "error",
     "evalue": "OpenCV(4.10.0) D:\\a\\opencv-python\\opencv-python\\opencv\\modules\\imgcodecs\\src\\loadsave.cpp:798: error: (-215:Assertion failed) !_img.empty() in function 'cv::imwrite'\n",
     "output_type": "error",
     "traceback": [
      "\u001b[1;31m---------------------------------------------------------------------------\u001b[0m",
      "\u001b[1;31merror\u001b[0m                                     Traceback (most recent call last)",
      "Cell \u001b[1;32mIn[27], line 1\u001b[0m\n\u001b[1;32m----> 1\u001b[0m cv2\u001b[38;5;241m.\u001b[39mimwrite(\u001b[38;5;124m'\u001b[39m\u001b[38;5;124mmyimage.jpg\u001b[39m\u001b[38;5;124m'\u001b[39m,frame)\n",
      "\u001b[1;31merror\u001b[0m: OpenCV(4.10.0) D:\\a\\opencv-python\\opencv-python\\opencv\\modules\\imgcodecs\\src\\loadsave.cpp:798: error: (-215:Assertion failed) !_img.empty() in function 'cv::imwrite'\n"
     ]
    }
   ],
   "source": [
    "cv2.imwrite('myimage.jpg',frame)"
   ]
  },
  {
   "cell_type": "code",
   "execution_count": 28,
   "id": "d17b31c6",
   "metadata": {},
   "outputs": [],
   "source": [
    "#Read the video until it is completed\n",
    "cap= cv2.VideoCapture(0)\n",
    "\n",
    "#Read\n",
    "while(cap.isOpened()):\n",
    "    #capture frame by frame\n",
    "    ret, frame=cap.read()\n",
    "    if ret== True:\n",
    "        #display the resulting frame\n",
    "        cv2.imshow('Frame', frame)\n",
    "        #Press Q on keyboard to exit\n",
    "        if cv2.waitKey(1) & 0xFF==ord('q'):\n",
    "            break\n",
    "    else:\n",
    "        break\n",
    "#when everything done, release the video capture object\n",
    "cap.release()\n",
    "\n",
    "#closes all the frames\n",
    "cv2.destroyAllWindows()"
   ]
  },
  {
   "cell_type": "code",
   "execution_count": null,
   "id": "a7291da8",
   "metadata": {},
   "outputs": [],
   "source": [
    "                                                                                                                                                                                                                                                                                                                                                                                                                                                                                                                                                                                                                                                                                                                                                                                                                                                                                                                                                                                                                                                                                                                                                                                                                                                                                                                                                                                                                                                                                                                                                                                                                                                                                                                                                                                                                                                                                                                                                                                                 "
   ]
  }
 ],
 "metadata": {
  "kernelspec": {
   "display_name": "Python 3 (ipykernel)",
   "language": "python",
   "name": "python3"
  },
  "language_info": {
   "codemirror_mode": {
    "name": "ipython",
    "version": 3
   },
   "file_extension": ".py",
   "mimetype": "text/x-python",
   "name": "python",
   "nbconvert_exporter": "python",
   "pygments_lexer": "ipython3",
   "version": "3.11.7"
  }
 },
 "nbformat": 4,
 "nbformat_minor": 5
}
